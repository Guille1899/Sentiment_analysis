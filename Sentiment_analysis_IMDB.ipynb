{
 "cells": [
  {
   "cell_type": "markdown",
   "metadata": {},
   "source": [
    "# Sentiment analysis \n",
    "\n",
    "## About this notebook\n",
    "\n",
    "This [app](http://ec2-35-180-131-164.eu-west-3.compute.amazonaws.com:___/) allows you classify movie reviews (i.e., \"good\" or \"bad\").\n",
    "\n",
    "## LeNet-5\n",
    "\n",
    "Convolutional Neural Networks is the standard architecture of a neural network designed for solving tasks associated with images (e.g., image classification). Some of the well-known deep learning architectures for CNN are LeNet-5 (7 layers), GoogLeNet (22 layers), AlexNet (8 layers), VGG (16–19 layers), and ResNet (152 layers). \n",
    "\n",
    "For this project, we use LeNet-5, which has been successfully used on the MNIST dataset to identify handwritten-digit patterns. The LeNet-5 architecture is represented in the following image.\n",
    "\n",
    "<!-- ![screenshot](img/lenet.png) -->\n",
    "\n",
    "## Data\n",
    "\n",
    "The dataset used to train, validate and test the model, correpsond to the [MNIST](http://yann.lecun.com/exdb/mnist/) dataset. \n",
    "It is composed by a training set of 60,000 examples, and a test set of 10,000 examples. \n",
    "The digits have been pre-processed to be size-normalized and centered in a fixed-size image of 28x28 pixels.\n",
    "\n",
    "<!-- ![screenshot](img/mnist.png) -->"
   ]
  },
  {
   "cell_type": "markdown",
   "metadata": {},
   "source": [
    "## Imports"
   ]
  },
  {
   "cell_type": "code",
   "execution_count": 1,
   "metadata": {},
   "outputs": [],
   "source": [
    "# General imports\n",
    "import numpy as np ; np.random.seed(1) # for reproducibility\n",
    "import os\n",
    "import joblib\n",
    "import io\n",
    "import zipfile\n",
    "import matplotlib.pyplot as plt\n",
    "import matplotlib.image as mpimg\n",
    "import json\n",
    "import random\n",
    "import shutil\n",
    "from datetime import datetime\n",
    "from sklearn.model_selection import train_test_split\n",
    "import platform\n",
    "%matplotlib inline\n",
    "\n",
    "# TensorFlow\n",
    "import tensorflow as tf\n",
    "from tensorflow import keras\n",
    "import tensorflow_datasets as tfds\n",
    "from tensorflow.keras.preprocessing.text import Tokenizer\n",
    "from tensorflow.keras.preprocessing.sequence import pad_sequences\n",
    "from tensorboard.plugins import projector\n"
   ]
  },
  {
   "cell_type": "markdown",
   "metadata": {},
   "source": [
    "## TensorFlow information"
   ]
  },
  {
   "cell_type": "code",
   "execution_count": 2,
   "metadata": {},
   "outputs": [
    {
     "name": "stdout",
     "output_type": "stream",
     "text": [
      "TensorFlow version: 2.4.0\n",
      "The CPU will be used for calculations.\n"
     ]
    }
   ],
   "source": [
    "# Indicate the version of Tensorflow and whether it uses the CPU or the GPU\n",
    "print(\"TensorFlow version:\", tf.__version__)\n",
    "\n",
    "if len(tf.config.list_physical_devices('GPU')) > 0:\n",
    "    print(\"The GPU will be used for calculations.\")\n",
    "    \n",
    "else:\n",
    "    print(\"The CPU will be used for calculations.\")"
   ]
  },
  {
   "cell_type": "markdown",
   "metadata": {},
   "source": [
    "## Folders"
   ]
  },
  {
   "cell_type": "code",
   "execution_count": 3,
   "metadata": {},
   "outputs": [],
   "source": [
    "# Define paths\n",
    "path_data = './data'\n",
    "path_model = './model'\n",
    "path_output = './output'"
   ]
  },
  {
   "cell_type": "markdown",
   "metadata": {},
   "source": [
    "## 1. Import data "
   ]
  },
  {
   "cell_type": "code",
   "execution_count": 4,
   "metadata": {},
   "outputs": [
    {
     "data": {
      "text/plain": [
       "['./data/testing_sentences']"
      ]
     },
     "execution_count": 4,
     "metadata": {},
     "output_type": "execute_result"
    }
   ],
   "source": [
    "# Download data\n",
    "imdb, info = tfds.load(\"imdb_reviews\", with_info=True, as_supervised=True)\n",
    "\n",
    "# Split train and test data\n",
    "train_data, test_data = imdb['train'], imdb['test']\n",
    "\n",
    "# Initialize datasets\n",
    "training_sentences = []\n",
    "training_labels = []\n",
    "\n",
    "testing_sentences = []\n",
    "testing_labels = []\n",
    "\n",
    "# Extract sentences and labels from the training data\n",
    "for s,l in train_data:\n",
    "    training_sentences.append(str(s.numpy()))\n",
    "    training_labels.append(l.numpy())\n",
    "\n",
    "for s,l in test_data:\n",
    "    testing_sentences.append(str(s.numpy()))\n",
    "    testing_labels.append(l.numpy())\n",
    "\n",
    "# Transform to numpy arrays\n",
    "training_sentences = np.array(training_sentences)\n",
    "testing_sentences = np.array(testing_sentences)\n",
    "training_labels = np.array(training_labels)\n",
    "testing_labels = np.array(testing_labels)\n",
    "\n",
    "# Save data\n",
    "joblib.dump(training_labels, os.path.join(path_data, 'training_labels'))\n",
    "joblib.dump(testing_labels, os.path.join(path_data, 'testing_labels'))\n",
    "joblib.dump(training_sentences, os.path.join(path_data, 'training_sentences'))\n",
    "joblib.dump(testing_sentences, os.path.join(path_data, 'testing_sentences'))\n"
   ]
  },
  {
   "cell_type": "code",
   "execution_count": 5,
   "metadata": {},
   "outputs": [],
   "source": [
    "# Load data\n",
    "training_labels = joblib.load(os.path.join(path_data, 'training_labels'))\n",
    "testing_labels = joblib.load(os.path.join(path_data, 'testing_labels'))\n",
    "training_sentences = joblib.load(os.path.join(path_data, 'training_sentences'))\n",
    "testing_sentences = joblib.load(os.path.join(path_data, 'testing_sentences'))\n"
   ]
  },
  {
   "cell_type": "markdown",
   "metadata": {},
   "source": [
    "## 2. Tokenize the data"
   ]
  },
  {
   "cell_type": "code",
   "execution_count": 6,
   "metadata": {},
   "outputs": [],
   "source": [
    "# Define hyper-parameters\n",
    "vocab_size = 20000\n",
    "embedding_dim = 32\n",
    "max_length = 240\n",
    "trunc_type='post'\n",
    "oov_tok = \"<OOV>\"\n",
    "\n",
    "# Tokenize the words in the sentences\n",
    "tokenizer = Tokenizer(\n",
    "    num_words = vocab_size, \n",
    "    oov_token = oov_tok\n",
    ")\n",
    "\n",
    "# Update internal vocabulary based on list of texts\n",
    "tokenizer.fit_on_texts(training_sentences)\n",
    "\n",
    "# Generate index of words\n",
    "word_index = tokenizer.word_index\n",
    "\n",
    "# Tokenize training sentences\n",
    "training_sequences = tokenizer.texts_to_sequences(training_sentences)\n",
    "\n",
    "# Add padding\n",
    "training_padded = pad_sequences(\n",
    "    training_sequences,\n",
    "    maxlen = max_length, \n",
    "    truncating = trunc_type\n",
    ")\n",
    "\n",
    "# Repeat for test data\n",
    "testing_sequences = tokenizer.texts_to_sequences(testing_sentences)\n",
    "testing_padded = pad_sequences(\n",
    "    testing_sequences,\n",
    "    maxlen = max_length,\n",
    ")"
   ]
  },
  {
   "cell_type": "markdown",
   "metadata": {},
   "source": [
    "## 3. Describe data"
   ]
  },
  {
   "cell_type": "code",
   "execution_count": 7,
   "metadata": {},
   "outputs": [
    {
     "name": "stdout",
     "output_type": "stream",
     "text": [
      "\n",
      "Dictionary length = 86539\n",
      "\n",
      "Number of training instances = 25000\n",
      "Number of testing instances = 25000\n",
      "\n",
      "Training instance max length = 240\n",
      "Testing instance max length = 240\n",
      "\n",
      "- First instance:\n",
      "\n",
      "b\"This was an absolutely terrible movie. Don't be lured in by Christopher Walken or Michael Ironside. Both are great actors, but this must simply be their worst role in history. Even their great acting could not redeem this movie's ridiculous storyline. This movie is an early nineties US propaganda piece. The most pathetic scenes were those when the Columbian rebels were making their cases for revolutions. Maria Conchita Alonso appeared phony, and her pseudo-love affair with Walken was nothing but a pathetic emotional plug in a movie that was devoid of any real meaning. I am disappointed that there are movies like this, ruining actor's like Christopher Walken's good name. I could barely sit through it.\"\n",
      "\n",
      "- Padded sequence for the first instance:\n",
      "\n",
      "[    0     0     0     0     0     0     0     0     0     0     0     0\n",
      "     0     0     0     0     0     0     0     0     0     0     0     0\n",
      "     0     0     0     0     0     0     0     0     0     0     0     0\n",
      "     0     0     0     0     0     0     0     0     0     0     0     0\n",
      "     0     0     0     0     0     0     0     0     0     0     0     0\n",
      "     0     0     0     0     0     0     0     0     0     0     0     0\n",
      "     0     0     0     0     0     0     0     0     0     0     0     0\n",
      "     0     0     0     0     0     0     0     0     0     0     0     0\n",
      "     0     0     0     0     0     0     0     0     0     0     0     0\n",
      "     0     0     0     0     0     0     0     0     0     0     0     0\n",
      "     0     0    59    12    14    35   439   400    18   174    29 10624\n",
      "     9    33  1378  3401    42   496 11109   197    25    88   156    19\n",
      "    12   211   340    29    70   248   213     9   486    62    70    88\n",
      "   116    99    24  5740    12  3317   657   777    12    18     7    35\n",
      "   406  8228   178  2477   426     2    92  1253   140    72   149    55\n",
      "     2     1  7525    72   229    70  2962    16     1  2880     1 18416\n",
      "  1506  4998     3    40  3947   119  1608    17  3401    14   163    19\n",
      "     4  1253   927  7986     9     4    18    13    14  4200     5   102\n",
      "   148  1237    11   240   692    13    44    25   101    39    12  7232\n",
      " 10374    39  1378     1    52   409    11    99  1214   874   145    10]\n",
      "\n",
      "- Label for the first instance:\n",
      "\n",
      "0: BAD review\n",
      "\n"
     ]
    }
   ],
   "source": [
    "# Describe the data\n",
    "print(\"\\nDictionary length =\", len(word_index))\n",
    "print(\"\\nNumber of training instances =\" , training_padded.shape[0])\n",
    "print(\"Number of testing instances =\" , testing_padded.shape[0])\n",
    "print(\"\\nTraining instance max length =\" , training_padded.shape[1])\n",
    "print(\"Testing instance max length =\" , testing_padded.shape[1])\n",
    "print(\"\\n- First instance:\\n\")\n",
    "print(training_sentences[0])\n",
    "print(\"\\n- Padded sequence for the first instance:\\n\")\n",
    "print(training_padded[0])\n",
    "print(\"\\n- Label for the first instance:\\n\")\n",
    "if training_labels[0] == 0:\n",
    "    print(\"0: BAD review\\n\")\n",
    "else:\n",
    "    print(\"1: GOOD review\\n\")"
   ]
  },
  {
   "cell_type": "markdown",
   "metadata": {},
   "source": [
    "## 4. Data Preprocessing"
   ]
  },
  {
   "cell_type": "markdown",
   "metadata": {},
   "source": [
    "### Shuffle data"
   ]
  },
  {
   "cell_type": "code",
   "execution_count": 8,
   "metadata": {},
   "outputs": [],
   "source": [
    "# Transform to numpy arrays\n",
    "training_sequences = np.array(training_sequences, dtype=\"object\")\n",
    "testing_sequences = np.array(testing_sequences, dtype=\"object\")\n",
    "\n",
    "# Shuffle train data\n",
    "permut = np.random.permutation(training_padded.shape[0])\n",
    "training_sentences = training_sentences[permut]\n",
    "training_labels = training_labels[permut]\n",
    "training_sequences = training_sequences[permut]\n",
    "training_padded = training_padded[permut]\n",
    "\n",
    "# Shuffle test data\n",
    "permut = np.random.permutation(testing_padded.shape[0])\n",
    "testing_sentences = testing_sentences[permut]\n",
    "testing_labels = testing_labels[permut]\n",
    "testing_sequences = testing_sequences[permut]\n",
    "testing_padded = testing_padded[permut]"
   ]
  },
  {
   "cell_type": "markdown",
   "metadata": {},
   "source": [
    "### Create validation set"
   ]
  },
  {
   "cell_type": "code",
   "execution_count": 9,
   "metadata": {},
   "outputs": [],
   "source": [
    "# Create validation set\n",
    "train_padded, validation_padded, train_labels, validation_labels = train_test_split(\n",
    "    training_padded, \n",
    "    training_labels, \n",
    "    test_size=0.05, \n",
    "    random_state=42\n",
    ")"
   ]
  },
  {
   "cell_type": "code",
   "execution_count": 10,
   "metadata": {},
   "outputs": [
    {
     "name": "stdout",
     "output_type": "stream",
     "text": [
      "\n",
      "Training dimensions: (23750, 240)\n",
      "Training labels size: 23750\n",
      "\n",
      "Validation dimensions: (1250, 240)\n",
      "Validation labels size: 1250\n",
      "\n",
      "Test dimensions: (25000, 240)\n",
      "Test labels size: 25000\n"
     ]
    }
   ],
   "source": [
    "# Describe data dimensions\n",
    "print('\\nTraining dimensions:', train_padded.shape)\n",
    "print('Training labels size:', train_labels.shape[0])\n",
    "print('\\nValidation dimensions:', validation_padded.shape)\n",
    "print('Validation labels size:', validation_labels.shape[0])\n",
    "print('\\nTest dimensions:', testing_padded.shape)\n",
    "print('Test labels size:', testing_labels.shape[0])"
   ]
  },
  {
   "cell_type": "markdown",
   "metadata": {},
   "source": [
    "## 5. Convolutional NN\n"
   ]
  },
  {
   "cell_type": "markdown",
   "metadata": {},
   "source": [
    "### Model"
   ]
  },
  {
   "cell_type": "code",
   "execution_count": 11,
   "metadata": {},
   "outputs": [
    {
     "name": "stdout",
     "output_type": "stream",
     "text": [
      "Model: \"sequential\"\n",
      "_________________________________________________________________\n",
      "Layer (type)                 Output Shape              Param #   \n",
      "=================================================================\n",
      "embedding (Embedding)        (None, 240, 32)           640000    \n",
      "_________________________________________________________________\n",
      "bidirectional (Bidirectional (None, 64)                16640     \n",
      "_________________________________________________________________\n",
      "dense (Dense)                (None, 6)                 390       \n",
      "_________________________________________________________________\n",
      "dropout (Dropout)            (None, 6)                 0         \n",
      "_________________________________________________________________\n",
      "dense_1 (Dense)              (None, 1)                 7         \n",
      "=================================================================\n",
      "Total params: 657,037\n",
      "Trainable params: 657,037\n",
      "Non-trainable params: 0\n",
      "_________________________________________________________________\n"
     ]
    }
   ],
   "source": [
    "# Create CNN architecture\n",
    "model = tf.keras.Sequential([\n",
    "    tf.keras.layers.Embedding(vocab_size, embedding_dim, input_length=max_length),\n",
    "    tf.keras.layers.Bidirectional(tf.keras.layers.LSTM(32)),\n",
    "    tf.keras.layers.Dense(6, activation='relu'),\n",
    "    tf.keras.layers.Dropout(0.20),\n",
    "    tf.keras.layers.Dense(1, activation='sigmoid')\n",
    "])\n",
    "\n",
    "# Print summary\n",
    "model.summary()"
   ]
  },
  {
   "cell_type": "markdown",
   "metadata": {},
   "source": [
    "### Compile"
   ]
  },
  {
   "cell_type": "code",
   "execution_count": 12,
   "metadata": {},
   "outputs": [],
   "source": [
    "# Compile model\n",
    "model.compile(\n",
    "    optimizer='adam', \n",
    "    loss='binary_crossentropy', \n",
    "    metrics=['accuracy']\n",
    ")"
   ]
  },
  {
   "cell_type": "markdown",
   "metadata": {},
   "source": [
    "## 6. Train"
   ]
  },
  {
   "cell_type": "code",
   "execution_count": 13,
   "metadata": {},
   "outputs": [
    {
     "name": "stdout",
     "output_type": "stream",
     "text": [
      "Epoch 1/5\n",
      "743/743 - 51s - loss: 0.4932 - accuracy: 0.7518 - val_loss: 0.3076 - val_accuracy: 0.8720\n",
      "Epoch 2/5\n",
      "743/743 - 50s - loss: 0.2640 - accuracy: 0.9053 - val_loss: 0.2982 - val_accuracy: 0.8720\n",
      "Epoch 3/5\n",
      "743/743 - 48s - loss: 0.1831 - accuracy: 0.9411 - val_loss: 0.3388 - val_accuracy: 0.8656\n",
      "Epoch 4/5\n",
      "743/743 - 45s - loss: 0.1465 - accuracy: 0.9550 - val_loss: 0.3621 - val_accuracy: 0.8648\n",
      "Epoch 5/5\n",
      "743/743 - 45s - loss: 0.0977 - accuracy: 0.9720 - val_loss: 0.4353 - val_accuracy: 0.8600\n"
     ]
    },
    {
     "data": {
      "text/plain": [
       "['./model/imdb_history']"
      ]
     },
     "execution_count": 13,
     "metadata": {},
     "output_type": "execute_result"
    }
   ],
   "source": [
    "# Set seed for random functions\n",
    "tf.random.set_seed(1)\n",
    "\n",
    "# Fit the model \n",
    "history = model.fit(\n",
    "    x=train_padded,\n",
    "    y=train_labels,\n",
    "    batch_size=32,\n",
    "    epochs=5,\n",
    "    verbose=2,\n",
    "    validation_data=(validation_padded, validation_labels)\n",
    ")\n",
    "\n",
    "# Get the dictionary containing each metric and the loss for each epoch\n",
    "history_dict = history.history\n",
    "\n",
    "# Save model and history\n",
    "model.save(os.path.join(path_model, 'imdb_model.h5'))\n",
    "model.save_weights(os.path.join(path_model, 'imdb_weights.h5'))\n",
    "joblib.dump(history_dict, os.path.join(path_model, 'imdb_history'))\n",
    "    "
   ]
  },
  {
   "cell_type": "code",
   "execution_count": 14,
   "metadata": {},
   "outputs": [],
   "source": [
    "# Load model and history\n",
    "model = keras.models.load_model(os.path.join(path_model, 'imdb_model.h5'))\n",
    "model.load_weights(os.path.join(path_model, 'imdb_weights.h5'))\n",
    "history_dict = joblib.load(os.path.join(path_model, 'imdb_history'))"
   ]
  },
  {
   "cell_type": "markdown",
   "metadata": {},
   "source": [
    "## 7. Accuracy and Loss for the Model"
   ]
  },
  {
   "cell_type": "code",
   "execution_count": 15,
   "metadata": {},
   "outputs": [
    {
     "data": {
      "image/png": "[encoded data removed]",
      "text/plain": [
       "<Figure size 432x288 with 1 Axes>"
      ]
     },
     "metadata": {
      "needs_background": "light"
     },
     "output_type": "display_data"
    },
    {
     "data": {
      "image/png": "[encoded data removed]",
      "text/plain": [
       "<Figure size 432x288 with 1 Axes>"
      ]
     },
     "metadata": {
      "needs_background": "light"
     },
     "output_type": "display_data"
    }
   ],
   "source": [
    "# Get metrics on training and test data\n",
    "acc = history_dict['accuracy']\n",
    "val_acc = history_dict['val_accuracy']\n",
    "loss = history_dict['loss']\n",
    "val_loss = history_dict['val_loss']\n",
    "\n",
    "# Get number of epochs\n",
    "epochs = range(len(acc)) \n",
    "\n",
    "# Plot training and validation accuracy per epoch\n",
    "plt.plot(epochs, acc, label='Training accuracy');\n",
    "plt.plot(epochs, val_acc, label='Validation accuracy');\n",
    "plt.title('Training and validation accuracy');\n",
    "plt.xlabel('Epochs');\n",
    "plt.legend(loc=0);\n",
    "plt.figure();\n",
    "\n",
    "# Plot training and validation loss per epoch\n",
    "plt.plot(epochs, loss, label='Training loss');\n",
    "plt.plot(epochs, val_loss, label='Validation loss');\n",
    "plt.legend(loc=0);\n",
    "plt.title('Training and validation loss');\n",
    "plt.xlabel('Epochs');"
   ]
  },
  {
   "cell_type": "markdown",
   "metadata": {},
   "source": [
    "## 8. Predict"
   ]
  },
  {
   "cell_type": "code",
   "execution_count": 16,
   "metadata": {},
   "outputs": [
    {
     "name": "stdout",
     "output_type": "stream",
     "text": [
      "Train accuracy: 98.4%\n",
      "Test accuracy: 85.61%\n"
     ]
    }
   ],
   "source": [
    "# Evaluate final accuracy of the model\n",
    "train_scores = model.evaluate(training_padded, training_labels, verbose=0)\n",
    "print(\"Train accuracy: \" + str(round(train_scores[1]*100, 2)) + '%')\n",
    "test_scores = model.evaluate(testing_padded, testing_labels, verbose=0)\n",
    "print(\"Test accuracy: \" + str(round(test_scores[1]*100, 2)) + '%')"
   ]
  },
  {
   "cell_type": "code",
   "execution_count": 17,
   "metadata": {},
   "outputs": [
    {
     "name": "stdout",
     "output_type": "stream",
     "text": [
      "b\"Reeves plays Haji Murad, a hero in 1850's Russia.<br /><br />This is a badly dubbed movie, with June Foray doing some of the voices. Unfortunately who ever was suppose to sync the voices to the lips was blind since the words never match the lip flaps. Anyone who says that Japanese films are bad have never watched this film.<br /><br />The film's plot is instantly forgettable and so I've forgotten it in the time its taken the movie to end and for me to sit and write this down. Perhaps it has more to do with the fact that the film is one of the many that Reeves made in hopes of moving away from action to more plot driven sort of films. It may have been a good thing for Reeves, but its deadly for the audience who have to slug through nooze fests such as this, where its all court intrigue with very little action.<br /><br />In Reeves defense, he was a good actor, he just had no real luck in picking films that were any good. They all looked great, but very few of them didn't put the those watching them into a coma for the film's running time.<br /><br />This film will put you in a coma. Watch it only if you have the need for sleep and all other gentler means have failed.\"\n",
      "This is a BAD review\n",
      "Prediction: BAD review\n",
      "\n",
      "b'This movie is an amazing comedy.. the script is too funny.. if u watch it more than once you will enjoy it more. Though the comedy at times is silly but it really makes u laugh!! Salman Khan and Aamir Khan have given justice to their roles. After 1994 i have not come across any hindi movie which was as funny as this.'\n",
      "This is a GOOD review\n",
      "Prediction: GOOD review\n",
      "\n",
      "b\"Of all the episodes of all series, this one holds the closest to Roddenberry's original tenet. According to the book THE MAKING OF STAR TREK, in Roddenberry's writer's guide to his story writers, he states that any alien creature, no matter how hideously ugly, impossible to believe, benign or malicious, MUST hold some semblance of humanity that the TV viewing public can empathize with and/or relate to. Devil In The Dark's HORTA, which resembles nothing more or less than a large blob of cow dung, is a mother protecting her babies, those ball-shaped silicon nodules the miners keep finding throughout the mine passages and destroying, because they have no idea what they are! This is one of my absolute favorite episodes if only for that!\"\n",
      "This is a GOOD review\n",
      "Prediction: BAD review\n",
      "\n",
      "b'Terrible writing, highly contrived, from a \"do-gooder\" who knows absolutely nothing about race relations in L.A., or the USA in the present day. The gushing positive reviews are a mystery to me - but could only be provided by folks who think that someone\\'s \"good\" intentions should be applauded regardless of how shallow, simpleminded and just totally unrealistic the results are. If you want to see a film which deals realistically with modern day L.A. race issues - the movie you need to see (and probably already saw) is Pulp Fiction. There\\'s more honesty and realism regarding race in any two minutes of that film than there are in the full 4 hours (oh I\\'m sorry, it just felt like 4 hours) of this stinker. <br /><br />If anyone ever needs proof that the path to hell is paved with good intentions - then this is the movie for you.'\n",
      "This is a BAD review\n",
      "Prediction: BAD review\n",
      "\n",
      "b\"About 5 minutes into the movie you're thrown into this brutally tepid cat and mouse romance between the two main characters and it just gets worse from there. The biggest problem is the characters and how completely unbelievable they are. This is what 50 year old producers and out-of-touch Hollywood script writers think stoner life is like, as if they gave the cast of Friends some pot. Bland, dull, annoying and completely unrealistic. I despise this movie.\"\n",
      "This is a BAD review\n",
      "Prediction: BAD review\n",
      "\n"
     ]
    }
   ],
   "source": [
    "# Print 5 test examples\n",
    "test_set = testing_sentences[0:5]\n",
    "\n",
    "# Tokenize\n",
    "sequences = tokenizer.texts_to_sequences(test_set)\n",
    "\n",
    "# Add padding\n",
    "padded = pad_sequences(sequences, maxlen=max_length, truncating=trunc_type)\n",
    "\n",
    "# Predict\n",
    "predictions = model.predict(padded)\n",
    "\n",
    "# Print results\n",
    "for i in range(len(test_set)):\n",
    "    print(test_set[i])\n",
    "    if testing_labels[i] == 0:\n",
    "        print(\"This is a BAD review\")\n",
    "    else:\n",
    "        print(\"This is a GOOD review\")\n",
    "    if predictions[i] < 0.5:\n",
    "        print(\"Prediction: BAD review\\n\")\n",
    "    else:\n",
    "        print(\"Prediction: GOOD review\\n\")\n"
   ]
  },
  {
   "cell_type": "markdown",
   "metadata": {},
   "source": [
    "## 9. Use case"
   ]
  },
  {
   "cell_type": "code",
   "execution_count": 18,
   "metadata": {},
   "outputs": [
    {
     "name": "stdout",
     "output_type": "stream",
     "text": [
      "What a great movie\n",
      "Prediction: GOOD review\n",
      "\n",
      "This show is garbage\n",
      "Prediction: BAD review\n",
      "\n",
      "The best I've ever seen\n",
      "Prediction: GOOD review\n",
      "\n",
      "Awesome performance\n",
      "Prediction: GOOD review\n",
      "\n",
      "An incredible and remarkable disaster\n",
      "Prediction: GOOD review\n",
      "\n",
      "Incredible show\n",
      "Prediction: GOOD review\n",
      "\n"
     ]
    }
   ],
   "source": [
    "# Create new instances\n",
    "list_sentences = [\n",
    "    \"What a great movie\", \n",
    "    \"This show is garbage\",\n",
    "    \"The best I've ever seen\",\n",
    "    \"Awesome performance\",\n",
    "    \"An incredible and remarkable disaster\",\n",
    "    \"Incredible show\"\n",
    "]\n",
    "\n",
    "# Tokenize\n",
    "sequences = tokenizer.texts_to_sequences(list_sentences)\n",
    "\n",
    "# Add padding\n",
    "padded = pad_sequences(sequences, maxlen=max_length, truncating=trunc_type)\n",
    "\n",
    "# Predict\n",
    "predictions = model.predict(padded)\n",
    "\n",
    "# Print results\n",
    "for i in range(len(list_sentences)):\n",
    "    print(list_sentences[i])\n",
    "    if predictions[i] < 0.5:\n",
    "        print(\"Prediction: BAD review\\n\")\n",
    "    else:\n",
    "        print(\"Prediction: GOOD review\\n\")"
   ]
  },
  {
   "cell_type": "markdown",
   "metadata": {},
   "source": [
    "## 10. Embeddings"
   ]
  },
  {
   "cell_type": "code",
   "execution_count": 19,
   "metadata": {},
   "outputs": [
    {
     "name": "stdout",
     "output_type": "stream",
     "text": [
      "Embedding shape: (20000, 32)\n"
     ]
    }
   ],
   "source": [
    "# Embedding shape\n",
    "embedding = model.layers[0]\n",
    "weights = embedding.get_weights()[0] \n",
    "print('Embedding shape:', weights.shape) "
   ]
  },
  {
   "cell_type": "code",
   "execution_count": 20,
   "metadata": {},
   "outputs": [],
   "source": [
    "# Revert dictionary\n",
    "reverse_word_index = dict([(value, key) for (key, value) in word_index.items()])\n",
    "\n",
    "# Save vectors and labels\n",
    "out_v = io.open(os.path.join(path_output, 'vectors.tsv'), 'w', encoding='utf-8')\n",
    "out_m = io.open(os.path.join(path_output, 'metadata.tsv'), 'w', encoding='utf-8')\n",
    "for word_num in range(1, vocab_size):\n",
    "    word = reverse_word_index[word_num]\n",
    "    embeddings = weights[word_num]\n",
    "    out_m.write(word + \"\\n\")\n",
    "    out_v.write('\\t'.join([str(x) for x in embeddings]) + \"\\n\")\n",
    "out_v.close()\n",
    "out_m.close()"
   ]
  },
  {
   "cell_type": "markdown",
   "metadata": {},
   "source": [
    "We can visualize the emebddings in this Tensorflow's [page](https://projector.tensorflow.org/)."
   ]
  },
  {
   "cell_type": "code",
   "execution_count": 21,
   "metadata": {},
   "outputs": [
    {
     "name": "stdout",
     "output_type": "stream",
     "text": [
      "Finished at 2021-02-14 16:59:49\n"
     ]
    }
   ],
   "source": [
    "# Print time when finished\n",
    "now = datetime.now()\n",
    "print(\"Finished at\", now.strftime(\"%Y-%m-%d %H:%M:%S\"))"
   ]
  },
  {
   "cell_type": "code",
   "execution_count": null,
   "metadata": {},
   "outputs": [],
   "source": []
  }
 ],
 "metadata": {
  "kernelspec": {
   "display_name": "sentiment",
   "language": "python",
   "name": "sentiment"
  },
  "language_info": {
   "codemirror_mode": {
    "name": "ipython",
    "version": 3
   },
   "file_extension": ".py",
   "mimetype": "text/x-python",
   "name": "python",
   "nbconvert_exporter": "python",
   "pygments_lexer": "ipython3",
   "version": "3.8.5"
  }
 },
 "nbformat": 4,
 "nbformat_minor": 4
}
